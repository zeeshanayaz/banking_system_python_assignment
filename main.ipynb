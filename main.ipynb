{
 "cells": [
  {
   "cell_type": "code",
   "execution_count": 1,
   "id": "f6e589d4-6c22-4b9a-815f-60f0ed8d879f",
   "metadata": {},
   "outputs": [],
   "source": [
    "import os\n",
    "\n",
    "TRANSACTION_FILE = \"transactions.txt\"\n",
    "USER_FILE = \"users.txt\""
   ]
  },
  {
   "cell_type": "code",
   "execution_count": 2,
   "id": "59103a66-7299-4517-a4b6-f466329ff63a",
   "metadata": {},
   "outputs": [],
   "source": [
    "# Record User to file.\n",
    "def record_user(account):\n",
    "    with open(USER_FILE, \"a\") as file:\n",
    "        file.write(f\"{account['title']},{account['cnic']},{account['phone']},{account['dob']},{account['balance']}\\n\")"
   ]
  },
  {
   "cell_type": "code",
   "execution_count": 3,
   "id": "ec794056-101d-43bc-8df9-7c1fbfe2ceb3",
   "metadata": {},
   "outputs": [],
   "source": [
    "# Update balance in USERS.txt\n",
    "def update_user_balance(cnic_filter, new_balance):\n",
    "    if not os.path.exists(USERS_FILE):\n",
    "        print(\"User list file not found.\")\n",
    "        return\n",
    "\n",
    "    with open(USERS_FILE, \"r\") as file:\n",
    "        users = file.readlines()\n",
    "\n",
    "    updated_users = []\n",
    "    for user in users:\n",
    "        title, cnic, phone, dob, balance = user.strip().split(\",\")\n",
    "        if cnic_filter == cnic:\n",
    "            updated_users.append(f\"{title},{cnic},{phone},{dob},{new_balance:.2f}\\n\")\n",
    "        else:\n",
    "            updated_users.append(user)\n",
    "\n",
    "    with open(USERS_FILE, \"w\") as file:\n",
    "        file.writelines(updated_users)"
   ]
  },
  {
   "cell_type": "code",
   "execution_count": 4,
   "id": "e55bd140-e39e-449a-a3d5-6b1020ba344c",
   "metadata": {},
   "outputs": [],
   "source": [
    "# Load User with CNIC\n",
    "def load_user(cnic_filter):\n",
    "    if not os.path.exists(USERS_FILE):\n",
    "        print(\"No user data found.\")\n",
    "        return None\n",
    "\n",
    "    with open(USERS_FILE, \"r\") as file:\n",
    "        for user in users:\n",
    "            title, cnic, phone, dob, balance = user.strip().split(\",\")\n",
    "            if cnic_filter == cnic:\n",
    "                print(f\"Account Title: {title} (CNIC: {cnic}) loaded with balance ${balance}.\")\n",
    "                return {\n",
    "                    \"account_title\": name,\n",
    "                    \"cnic\": cnic,\n",
    "                    \"phone\": phone,\n",
    "                    \"dob\": dob,\n",
    "                    \"balance\": float(balance),\n",
    "                    \"transactions\": []\n",
    "                }\n",
    "    print(f\"No user found with name {name}.\")\n",
    "    return None"
   ]
  },
  {
   "cell_type": "code",
   "execution_count": 23,
   "id": "371058f2-fd6a-4f0c-86bc-2df55bdd5af9",
   "metadata": {},
   "outputs": [],
   "source": [
    "# Record Transaction to file.\n",
    "# transaction_type: Deposit, Withdrawal\n",
    "def record_transaction(title, cnic, transaction_type, amount, balance):\n",
    "    with open(TRANSACTION_FILE, \"a\") as file:\n",
    "        file.write(f\"{title},{cnic},{transaction_type},{amount},{balance}\\n\")"
   ]
  },
  {
   "cell_type": "code",
   "execution_count": 5,
   "id": "579b0c42-7b72-447a-96d6-e42f4752909e",
   "metadata": {},
   "outputs": [],
   "source": [
    "# Create an account\n",
    "def create_account(title, cnic, dob, phone = \"\",initial_balance=0.0):\n",
    "    print(f\"Account for {name} created with balance ${initial_balance}.\")\n",
    "    account = {\n",
    "        \"account_title\": name,\n",
    "        \"cnic\": cnic,\n",
    "        \"phone\": phone,\n",
    "        \"dob\": dob,\n",
    "        \"balance\": initial_balance,\n",
    "        \"transactions\": []\n",
    "    }\n",
    "    record_user(account)\n",
    "    print(f\"Account for {name} created with balance ${initial_balance}.\")\n",
    "    return account"
   ]
  },
  {
   "cell_type": "code",
   "execution_count": 6,
   "id": "e12cc107-a16b-4190-950d-1679d04530bd",
   "metadata": {},
   "outputs": [],
   "source": [
    "# Deposit function\n",
    "def deposit(account, amount):\n",
    "    if amount <= 0:\n",
    "        print(\"Error: Deposit amount must be positive.\")\n",
    "        return account\n",
    "    \n",
    "    account[\"balance\"] += amount\n",
    "    account[\"transactions\"].append((\"Deposit\", amount, account[\"balance\"]))\n",
    "    record_transaction(account[\"name\"], \"Deposit\", amount, account[\"balance\"])\n",
    "    update_user_balance(account[\"cnic\"], account[\"balance\"])\n",
    "    print(f\"{account['name']} deposited ${amount}. New balance: ${account['balance']:.2f}.\")\n",
    "    return account"
   ]
  },
  {
   "cell_type": "code",
   "execution_count": 18,
   "id": "52802484-1360-431c-b278-d1713f4393ad",
   "metadata": {},
   "outputs": [],
   "source": [
    "# Withdraw function\n",
    "def withdraw(account, amount):\n",
    "    if amount <= 0:\n",
    "        print(\"Error: Withdrawal amount must be positive.\")\n",
    "        return account\n",
    "    \n",
    "    if amount > account[\"balance\"]:\n",
    "        print(\"Error: Insufficient balance.\")\n",
    "        return account\n",
    "    \n",
    "    account[\"balance\"] -= amount\n",
    "    account[\"transactions\"].append((\"Withdrawal\", amount, account[\"balance\"]))\n",
    "    record_transaction(account[\"name\"], \"Withdrawal\", amount, account[\"balance\"])\n",
    "    print(f\"{account['name']} withdrew ${amount}. New balance: ${account['balance']:.2f}.\")\n",
    "    return account"
   ]
  },
  {
   "cell_type": "code",
   "execution_count": null,
   "id": "b69e8c5c-b45d-46e4-96bc-a3a02e4895b8",
   "metadata": {},
   "outputs": [],
   "source": []
  }
 ],
 "metadata": {
  "kernelspec": {
   "display_name": "Python 3 (ipykernel)",
   "language": "python",
   "name": "python3"
  },
  "language_info": {
   "codemirror_mode": {
    "name": "ipython",
    "version": 3
   },
   "file_extension": ".py",
   "mimetype": "text/x-python",
   "name": "python",
   "nbconvert_exporter": "python",
   "pygments_lexer": "ipython3",
   "version": "3.12.7"
  }
 },
 "nbformat": 4,
 "nbformat_minor": 5
}
