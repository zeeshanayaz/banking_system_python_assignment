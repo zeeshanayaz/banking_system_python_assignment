{
 "cells": [
  {
   "cell_type": "code",
   "execution_count": 31,
   "id": "f6e589d4-6c22-4b9a-815f-60f0ed8d879f",
   "metadata": {},
   "outputs": [],
   "source": [
    "import os\n",
    "\n",
    "TRANSACTION_FILE = \"transactions.txt\"\n",
    "USER_FILE = \"users.txt\""
   ]
  },
  {
   "cell_type": "code",
   "execution_count": 32,
   "id": "59103a66-7299-4517-a4b6-f466329ff63a",
   "metadata": {},
   "outputs": [],
   "source": [
    "# Record User to file.\n",
    "def record_user(account):\n",
    "    with open(USER_FILE, \"a\") as file:\n",
    "        file.write(f\"{account['account_title']},{account['cnic']},{account['phone']},{account['dob']},{account['balance']}\\n\")"
   ]
  },
  {
   "cell_type": "code",
   "execution_count": 54,
   "id": "ec794056-101d-43bc-8df9-7c1fbfe2ceb3",
   "metadata": {},
   "outputs": [],
   "source": [
    "# Update balance in USERS.txt\n",
    "def update_user_balance(cnic_filter, new_balance):\n",
    "    if not os.path.exists(USER_FILE):\n",
    "        print(\"User list file not found.\")\n",
    "        return\n",
    "\n",
    "    with open(USER_FILE, \"r\") as file:\n",
    "        users = file.readlines()\n",
    "\n",
    "    updated_users = []\n",
    "    for user in users:\n",
    "        title, cnic, phone, dob, balance = user.strip().split(\",\")\n",
    "        if cnic_filter == cnic:\n",
    "            updated_users.append(f\"{title},{cnic},{phone},{dob},{new_balance:.2f}\\n\")\n",
    "        else:\n",
    "            updated_users.append(user)\n",
    "\n",
    "    with open(USER_FILE, \"w\") as file:\n",
    "        file.writelines(updated_users)"
   ]
  },
  {
   "cell_type": "code",
   "execution_count": 48,
   "id": "e55bd140-e39e-449a-a3d5-6b1020ba344c",
   "metadata": {},
   "outputs": [],
   "source": [
    "# Load User with CNIC\n",
    "def load_user(cnic_filter):\n",
    "    if not os.path.exists(USER_FILE):\n",
    "        print(\"No user data found.\")\n",
    "        return None\n",
    "\n",
    "    with open(USER_FILE, \"r\") as file:\n",
    "        users = file.readlines()\n",
    "        for user in users:\n",
    "            title, cnic, phone, dob, balance = user.strip().split(\",\")\n",
    "            if cnic_filter == cnic:\n",
    "                # print(f\"Account Title: {title} (CNIC: {cnic}) loaded with balance ${balance}.\")\n",
    "                return {\n",
    "                    \"account_title\": title,\n",
    "                    \"cnic\": cnic,\n",
    "                    \"phone\": phone,\n",
    "                    \"dob\": dob,\n",
    "                    \"balance\": float(balance),\n",
    "                    \"transactions\": []\n",
    "                }\n",
    "    print(f\"No user found with cnic {cnic_filter}.\")\n",
    "    return None"
   ]
  },
  {
   "cell_type": "code",
   "execution_count": 70,
   "id": "e26d877f-a808-4946-af79-8c30da554e34",
   "metadata": {},
   "outputs": [],
   "source": [
    "# Load User with CNIC\n",
    "def load_account_holder():\n",
    "    if not os.path.exists(USER_FILE):\n",
    "        print(\"No user data found.\")\n",
    "        return None\n",
    "\n",
    "    with open(USER_FILE, \"r\") as file:\n",
    "        users = file.readlines()\n",
    "        if not users:\n",
    "            print('No record for account holder found')\n",
    "        else:\n",
    "            for user in users:\n",
    "                title, cnic, phone, dob, balance = user.strip().split(\",\")\n",
    "                print(f'{title} - {cnic} - {phone} - {dob} - {balance}')"
   ]
  },
  {
   "cell_type": "code",
   "execution_count": 43,
   "id": "371058f2-fd6a-4f0c-86bc-2df55bdd5af9",
   "metadata": {},
   "outputs": [],
   "source": [
    "# Record Transaction to file.\n",
    "# transaction_type: Deposit, Withdrawal\n",
    "def record_transaction(title, cnic, transaction_type, amount, balance):\n",
    "    with open(TRANSACTION_FILE, \"a\") as file:\n",
    "        file.write(f\"{title},{cnic},{transaction_type},{amount},{balance}\\n\")"
   ]
  },
  {
   "cell_type": "code",
   "execution_count": 58,
   "id": "579b0c42-7b72-447a-96d6-e42f4752909e",
   "metadata": {},
   "outputs": [],
   "source": [
    "# Create an account\n",
    "def create_account(title, cnic, dob, phone = \"\",initial_balance=0.0):\n",
    "    if (title == '' or cnic == ''):\n",
    "        print('ERROR: Account title and CNIC is required field to create account')\n",
    "        return\n",
    "    account = {\n",
    "        \"account_title\": title,\n",
    "        \"cnic\": cnic,\n",
    "        \"phone\": phone,\n",
    "        \"dob\": dob,\n",
    "        \"balance\": initial_balance,\n",
    "        \"transactions\": []\n",
    "    }\n",
    "    record_user(account)\n",
    "    print(f\"====== Congratulations! Account for {title} created with balance ${initial_balance}. ======\")\n",
    "    return account"
   ]
  },
  {
   "cell_type": "code",
   "execution_count": 62,
   "id": "e12cc107-a16b-4190-950d-1679d04530bd",
   "metadata": {},
   "outputs": [],
   "source": [
    "# Deposit function\n",
    "def deposit(account, amount):\n",
    "    if amount <= 0:\n",
    "        print(\"Error: Deposit amount must be positive.\")\n",
    "        return account\n",
    "    \n",
    "    account[\"balance\"] += amount\n",
    "    account[\"transactions\"].append((\"Deposit\", amount, account[\"balance\"]))\n",
    "    record_transaction(account[\"account_title\"],account[\"cnic\"], \"Deposit\", amount, account[\"balance\"])\n",
    "    update_user_balance(account[\"cnic\"], account[\"balance\"])\n",
    "    print(f\"====== {account['account_title']} deposited ${amount}. New balance: ${account['balance']:.2f}. ======\")\n",
    "    return account"
   ]
  },
  {
   "cell_type": "code",
   "execution_count": 63,
   "id": "52802484-1360-431c-b278-d1713f4393ad",
   "metadata": {},
   "outputs": [],
   "source": [
    "# Withdraw function\n",
    "def withdraw(account, amount):\n",
    "    if amount <= 0:\n",
    "        print(\"Error: Withdrawal amount must be positive.\")\n",
    "        return account\n",
    "    \n",
    "    if amount > account[\"balance\"]:\n",
    "        print(\"Error: Insufficient balance.\")\n",
    "        return account\n",
    "    \n",
    "    account[\"balance\"] -= amount\n",
    "    account[\"transactions\"].append((\"Withdrawal\", amount, account[\"balance\"]))\n",
    "    record_transaction(account[\"account_title\"], account[\"cnic\"], \"Withdrawal\", amount, account[\"balance\"])\n",
    "    update_user_balance(account[\"cnic\"], account[\"balance\"])\n",
    "    print(f\"====== {account['account_title']} withdrew ${amount}. New balance: ${account['balance']:.2f}. ======\")\n",
    "    return account"
   ]
  },
  {
   "cell_type": "code",
   "execution_count": 68,
   "id": "64c4d690-799d-47d6-848e-1266578cf5ba",
   "metadata": {},
   "outputs": [],
   "source": [
    "# Load Statement Function\n",
    "def load_statement(account):\n",
    "    if not os.path.exists(TRANSACTION_FILE):\n",
    "        print(\"No transactions data found.\")\n",
    "        return None\n",
    "        \n",
    "    with open(TRANSACTION_FILE, \"r\") as file:\n",
    "        transactions = file.readlines()\n",
    "        user_transactions = []\n",
    "        for transaction in transactions:\n",
    "            title, cnic, transaction_type, amount, balance = transaction.strip().split(\",\")\n",
    "            if account['cnic'] == cnic:\n",
    "                user_transactions.append({\n",
    "                    \"title\": title,\n",
    "                    \"transaction_type\": transaction_type,\n",
    "                    \"amount\": float(amount),\n",
    "                    \"balance\": float(balance)\n",
    "                })\n",
    "        if not user_transactions:\n",
    "            print(f\"No transactions found for account holder {account['account_title']}.\")\n",
    "            return None\n",
    "        else:\n",
    "            print(f\"\\nTransactions for {account['account_title']}:\")\n",
    "            for transaction in user_transactions:\n",
    "                print(f\"{transaction['transaction_type']} - Amount: {transaction['amount']} - Balance: {transaction['balance']}\")"
   ]
  },
  {
   "cell_type": "code",
   "execution_count": 71,
   "id": "b69e8c5c-b45d-46e4-96bc-a3a02e4895b8",
   "metadata": {},
   "outputs": [
    {
     "name": "stdout",
     "output_type": "stream",
     "text": [
      "\n",
      "1 > Create Account\n",
      "2 > Deposit Amount\n",
      "3 > Withdraw Amount\n",
      "4 > Check Balance\n",
      "5 > Statement\n",
      "6 > List Account Holders\n",
      "7 > Exit\n",
      "\n"
     ]
    },
    {
     "name": "stdin",
     "output_type": "stream",
     "text": [
      "Select what operation to perform:  6\n"
     ]
    },
    {
     "name": "stdout",
     "output_type": "stream",
     "text": [
      "**** List of Account Holders ****\n",
      "Muhammad Zeeshan - 4230180519111 - 03122309493 - 03/01/1995 - 90.00\n",
      "Muhammad Ayaz - 4230111215887 - 0123232323 - 01/01/1900 - 150.00\n",
      "\n",
      "1 > Create Account\n",
      "2 > Deposit Amount\n",
      "3 > Withdraw Amount\n",
      "4 > Check Balance\n",
      "5 > Statement\n",
      "6 > List Account Holders\n",
      "7 > Exit\n",
      "\n"
     ]
    },
    {
     "name": "stdin",
     "output_type": "stream",
     "text": [
      "Select what operation to perform:  7\n"
     ]
    },
    {
     "name": "stdout",
     "output_type": "stream",
     "text": [
      "Exit\n"
     ]
    }
   ],
   "source": [
    "while True:\n",
    "    print('''\n",
    "1 > Create Account\n",
    "2 > Deposit Amount\n",
    "3 > Withdraw Amount\n",
    "4 > Check Balance\n",
    "5 > Statement\n",
    "6 > List Account Holders\n",
    "7 > Exit\n",
    "''')\n",
    "    try:\n",
    "        operation = input('Select what operation to perform: ')\n",
    "        \n",
    "        if operation == '1':\n",
    "            print('**** Creating Account ****')\n",
    "            account_title = input('Enter your name: ')\n",
    "            cnic = input('Enter your CNIC (without dash): ')\n",
    "            dob = input('Enter your Date of Birth (dd/mm/yyyy): ')\n",
    "            phone = input('Enter your Phone Number: ')\n",
    "            create_account(account_title, cnic, dob, phone)\n",
    "        \n",
    "        elif operation == '2':\n",
    "            print('**** Deposit Amount ****')\n",
    "            cnic = input('Enter your CNIC: ')\n",
    "            account_data = load_user(cnic)\n",
    "            if account_data is not None:\n",
    "                amount = float(input('Enter amount to deposit: '))\n",
    "                deposit(account_data, amount)\n",
    "        \n",
    "        elif operation == '3':\n",
    "            print('**** Withdraw Amount ****')\n",
    "            cnic = input('Enter your CNIC: ')\n",
    "            account_data = load_user(cnic)\n",
    "            if account_data is not None:\n",
    "                amount = float(input('Enter amount to withdraw: '))\n",
    "                withdraw(account_data, amount)\n",
    "        \n",
    "        elif operation == '4':\n",
    "            print('**** Checking Balance ****')\n",
    "            cnic = input('Enter your CNIC: ')\n",
    "            account_data = load_user(cnic)\n",
    "            if account_data is not None:\n",
    "                print(f'Account Title: {account_data[\"account_title\"]} has ${account_data[\"balance\"]} balance in account.) ')\n",
    "        \n",
    "        elif operation == '5':\n",
    "            print('**** Statement ****')\n",
    "            cnic = input('Enter your CNIC: ')\n",
    "            account_data = load_user(cnic)\n",
    "            if account_data is not None:\n",
    "                load_statement(account_data)\n",
    "        \n",
    "        elif operation == '6':\n",
    "            print('**** List of Account Holders ****')\n",
    "            load_account_holder()\n",
    "        \n",
    "        elif operation == '7':\n",
    "            print('Exit')\n",
    "            break\n",
    "        \n",
    "        else:\n",
    "            print('Invalid option. Please select a valid operation.')\n",
    "    \n",
    "    except ValueError:\n",
    "        print('Invalid input. Please enter a number.')"
   ]
  },
  {
   "cell_type": "code",
   "execution_count": null,
   "id": "54d505d6-bc5c-4a3c-8f1a-1f8729c6081c",
   "metadata": {},
   "outputs": [],
   "source": []
  }
 ],
 "metadata": {
  "kernelspec": {
   "display_name": "Python 3 (ipykernel)",
   "language": "python",
   "name": "python3"
  },
  "language_info": {
   "codemirror_mode": {
    "name": "ipython",
    "version": 3
   },
   "file_extension": ".py",
   "mimetype": "text/x-python",
   "name": "python",
   "nbconvert_exporter": "python",
   "pygments_lexer": "ipython3",
   "version": "3.12.7"
  }
 },
 "nbformat": 4,
 "nbformat_minor": 5
}
